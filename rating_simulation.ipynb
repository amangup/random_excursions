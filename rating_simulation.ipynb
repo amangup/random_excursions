{
  "nbformat": 4,
  "nbformat_minor": 0,
  "metadata": {
    "colab": {
      "name": "rating_simulation.ipynb",
      "provenance": [],
      "collapsed_sections": [],
      "include_colab_link": true
    },
    "kernelspec": {
      "name": "python3",
      "display_name": "Python 3"
    }
  },
  "cells": [
    {
      "cell_type": "markdown",
      "metadata": {
        "id": "view-in-github",
        "colab_type": "text"
      },
      "source": [
        "<a href=\"https://colab.research.google.com/github/amangup/random_excursions/blob/master/rating_simulation.ipynb\" target=\"_parent\"><img src=\"https://colab.research.google.com/assets/colab-badge.svg\" alt=\"Open In Colab\"/></a>"
      ]
    },
    {
      "cell_type": "markdown",
      "metadata": {
        "id": "bPrrVodv0x5R",
        "colab_type": "text"
      },
      "source": [
        "## Monte Carlo simulations for voting systems to rank a leaderboard\n",
        "\n",
        "The movie Social Network made popular a rating system, used in Mark Zuckerberg's website Facemash, which can create a ranking of participants by making users choose one from a pair of faces shown to them. This rating system was originally designed for [chess tournaments](https://en.wikipedia.org/wiki/Chess_rating_system) - to rate players using the results of chess games.\n",
        "\n",
        "I want to simulate a slightly simplified version and see what factors affect the outcome of such a voting system. The situation is\n",
        "- There are a fixed number of players\n",
        "- Each player is also a voter who is presented a number of choices to choose from (e.g. 2 faces in Facemash) - and making one choice counts as one vote. Each player may be asked to vote multiple times.\n",
        "- Each player starts with the same score. Each vote adjusts the scores of the players presented in that vote - the score of the winner increases, and the score for others decreases. The sum of all scores remains constant.\n",
        "\n",
        "### Assumptions\n",
        "To design a simulation we need to make some assumptions\n",
        "\n",
        "- We assume that each player has an _innate_ quality score.\n",
        "- In simulating the voting choice of each voter, the choice with the **highest innate quality score** is most likely to be chosen.\n",
        "\n",
        "### Error metric\n",
        "The innate quality metric is normalized to [0, 1]. We normalize the final score (the outcome of voting) to [0,1] as well, and then calculate RMSE as error.\n",
        "\n",
        "### Situations we want to look at\n",
        "- If each voter is asked to vote more times, does the accuracy improve?\n",
        "- If each voter is given more than 2 choices in each vote, does that help?\n",
        "- What happens if we assume different distribution of innate quality of the players?\n",
        "\n",
        "\n",
        "**You can skip to the Results section if you are not interested in the code for the simulation**\n",
        "\n",
        "\n",
        "\n",
        "\n"
      ]
    },
    {
      "cell_type": "code",
      "metadata": {
        "id": "blqHwq4ImKG-",
        "colab_type": "code",
        "colab": {}
      },
      "source": [
        "import matplotlib.pyplot as plt\n",
        "import numpy as np\n",
        "from math import exp\n",
        "from random import random, sample\n"
      ],
      "execution_count": 0,
      "outputs": []
    },
    {
      "cell_type": "markdown",
      "metadata": {
        "id": "FNPj5zdPmnQr",
        "colab_type": "text"
      },
      "source": [
        "Our simulation is designed as follows:\n",
        "\n",
        "- We start with score = 1 for each player\n",
        "- Each player rates `n_games` games. We would expect as players vote more times, the accuracy of outcome will improve\n",
        "- A number of players can be malicious, i.e., they knowingly vote for the bad teams instead of good ones. `mal_prob` indicates the probability a player is malicious.\n",
        "- The _innate_ quality score of a player is defined by the `quality_f` (in the range [0, 1]). If this function is linear, that means teams cover the spectrum of ability uniformly. If it has an asymptote at 1, that means there are a lot of high quality teams. And so on.\n",
        "- Given a number of teams to vote among, `rating_f()` defines the logic by which the voter will make that choice. It is assumed that every voter uses the same logic, but since that logic is randomized the actual votes for each player will be different.\n",
        "- `gameset_f()` creates a set of games for each voter. These are choices presented to each user in each vote. Note that this can be greater than 2, i.e., voter can be asked to choose the best among 4 choices, for example.\n",
        "\n",
        "Given these inputs:\n",
        "- we create voting instances (aka games) for all players, and simulate their choice.\n",
        "- For each game, we increase the score of the winner, and decrease the score of non-winners (s.t. it remains a zero sum game).\n",
        "- We normalize the final score array to [0, 1], and calculate the RMSE between the score resulting from the vote and the innate quality scores that we started with."
      ]
    },
    {
      "cell_type": "code",
      "metadata": {
        "id": "rcCkorAmmQEl",
        "colab_type": "code",
        "colab": {}
      },
      "source": [
        "def ranking_error(num_players, n_games, delta, mal_prob, choices_per_game, quality_f, rating_f, gameset_f):\n",
        "    score = [1] * num_players\n",
        "\n",
        "    for _ in range(num_players):\n",
        "        game_set = gameset_f(num_players, n_games, choices_per_game)\n",
        "        malicious = random() < mal_prob\n",
        "        \n",
        "        \n",
        "        for competition in game_set:\n",
        "            ratings = rating_f(competition, num_players, quality_f, malicious)\n",
        "            for pl_index in range(len(competition)):\n",
        "                score[competition[pl_index]] += ratings[pl_index] * delta\n",
        "\n",
        "    max_min = max(score) - min(score)\n",
        "    c_term = min(score) / max_min\n",
        "    score_norm = [(value/max_min) - c_term for value in score]\n",
        "\n",
        "    original_score = [quality_f(i, num_players) for i in range(num_players)]\n",
        "    sse = sum([(a - e) ** 2 for (a, e) in zip(original_score, score_norm)])\n",
        "    rmse = (sse / num_players) ** 0.5\n",
        "    return rmse"
      ],
      "execution_count": 0,
      "outputs": []
    },
    {
      "cell_type": "markdown",
      "metadata": {
        "id": "luX-dcTUqC4e",
        "colab_type": "text"
      },
      "source": [
        "The `rate()` function below decides who wins among a number of players. \n",
        "- every player is given a winning probability proportional to their innate quality\n",
        "- we select a winner using that probabilities as the distribution over all players. In case `malicious=True`, we use `1-pdf` instead of the standard `pdf` to choose winner.\n",
        "- The sum of return value `ratings` is 0, so the games remains 0 sum at all times."
      ]
    },
    {
      "cell_type": "code",
      "metadata": {
        "id": "SHO7kvUkmdUV",
        "colab_type": "code",
        "colab": {}
      },
      "source": [
        "def _logistic_(x):\n",
        "    return 1/(1 + exp(-10 * (x-0.5)))\n",
        "\n",
        "\n",
        "def rate(players, num_players, quality_f, malicious=False):\n",
        "    quality_scores = [quality_f(player, num_players) for player in players]\n",
        "    \n",
        "    sum_quality = sum(quality_scores)    \n",
        "    probs = [_logistic_(score/sum_quality) for score in quality_scores]\n",
        "    \n",
        "    sum_probs = sum(probs)\n",
        "    probs_norm = [x/sum_probs for x in probs]\n",
        "    \n",
        "    if malicious:\n",
        "      probs_norm = [1-p for p in probs_norm]\n",
        "      \n",
        "    winner = np.random.choice(players, 1, p=probs_norm)\n",
        "\n",
        "    ratings = [-1/(num_players-1)] * len(players)\n",
        "\n",
        "    ratings[players.index(winner)] = 1\n",
        "\n",
        "    return ratings\n"
      ],
      "execution_count": 0,
      "outputs": []
    },
    {
      "cell_type": "markdown",
      "metadata": {
        "id": "3wH5QmcirIdb",
        "colab_type": "text"
      },
      "source": [
        "The `select_games()` creates the sets of teams among which the voter will have to choose. \n",
        "- It creates `n_games` sets, i.e., each voter votes `n_games` times. Each set has `choices_per_game` teams as competitors."
      ]
    },
    {
      "cell_type": "code",
      "metadata": {
        "id": "4-i2I0g4mjr-",
        "colab_type": "code",
        "colab": {}
      },
      "source": [
        "def select_games(num_players, n_games, choices_per_game=2):\n",
        "    games = set()\n",
        "    players = range(num_players)\n",
        "    while len(games) < n_games:\n",
        "        game = sample(players, choices_per_game)\n",
        "        games.add(tuple(game))\n",
        "\n",
        "    return games"
      ],
      "execution_count": 0,
      "outputs": []
    },
    {
      "cell_type": "markdown",
      "metadata": {
        "id": "NLdN3dO_9Grw",
        "colab_type": "text"
      },
      "source": [
        "Finally we define a function which executes multiple trials and averages the error."
      ]
    },
    {
      "cell_type": "code",
      "metadata": {
        "id": "FQQEXR34rFtn",
        "colab_type": "code",
        "colab": {}
      },
      "source": [
        "def get_avg_error(trials, n_games, mal_prob, choices_per_game, quality_f):\n",
        "    error = 0\n",
        "    for i in range(trials):\n",
        "        error += ranking_error(100, n_games, delta=0.02, mal_prob=mal_prob, \n",
        "                               choices_per_game=choices_per_game, \n",
        "                               quality_f=quality_f, rating_f=rate, \n",
        "                               gameset_f=select_games)\n",
        "\n",
        "    return error/trials"
      ],
      "execution_count": 0,
      "outputs": []
    },
    {
      "cell_type": "markdown",
      "metadata": {
        "id": "Gtfy29JL3s0m",
        "colab_type": "text"
      },
      "source": [
        "## Results"
      ]
    },
    {
      "cell_type": "markdown",
      "metadata": {
        "id": "EPmoVoUWtsPe",
        "colab_type": "text"
      },
      "source": [
        "Let's start with a quality function that is linear. This means that players of all quality are uniformly distributed."
      ]
    },
    {
      "cell_type": "code",
      "metadata": {
        "id": "YsAWmTKTtnre",
        "colab_type": "code",
        "colab": {}
      },
      "source": [
        "def quality1(user_id, num_users):\n",
        "    return user_id/num_users"
      ],
      "execution_count": 0,
      "outputs": []
    },
    {
      "cell_type": "code",
      "metadata": {
        "id": "UnI5mu3A3znI",
        "colab_type": "code",
        "colab": {
          "base_uri": "https://localhost:8080/",
          "height": 283
        },
        "outputId": "702cf68e-59b7-4b16-c372-24bdef37434d"
      },
      "source": [
        "plt.plot(range(100), [quality1(i, 100) for i in range(100)])\n",
        "plt.ylabel(\"Quality\")\n",
        "plt.xlabel(\"Player id\")\n",
        "plt.show()"
      ],
      "execution_count": 53,
      "outputs": [
        {
          "output_type": "display_data",
          "data": {
            "image/png": "[encoded data removed]",
            "text/plain": [
              "<Figure size 432x288 with 1 Axes>"
            ]
          },
          "metadata": {
            "tags": []
          }
        }
      ]
    },
    {
      "cell_type": "markdown",
      "metadata": {
        "id": "PioI1OMZuQjP",
        "colab_type": "text"
      },
      "source": [
        "### Situation 1\n",
        "As our first experiment, let's see if our voting system works better if increase the number of comparisons each voter votes for. We are going to plot error against the number of votes per voter.\n",
        "\n",
        "As you can see in the graph, **more votes per voter give us more information, and error goes down as a result**."
      ]
    },
    {
      "cell_type": "code",
      "metadata": {
        "id": "7U7YRVZztfWq",
        "colab_type": "code",
        "colab": {
          "base_uri": "https://localhost:8080/",
          "height": 283
        },
        "outputId": "daec6fec-18ef-4a33-c407-12fd2f8e1210"
      },
      "source": [
        "num_votes_error = []\n",
        "for i in range(2, 21, 2):\n",
        "    num_votes_error.append(get_avg_error(10, n_games=i, mal_prob=0, \n",
        "                                         choices_per_game=2, quality_f=quality1))\n",
        "    \n",
        "plt.plot(range(2, 21, 2), num_votes_error)\n",
        "plt.ylim((0, 0.35))\n",
        "plt.ylabel(\"Error\")\n",
        "plt.xlabel(\"Number of votes per voter\")\n",
        "plt.show()"
      ],
      "execution_count": 30,
      "outputs": [
        {
          "output_type": "display_data",
          "data": {
            "image/png": "[encoded data removed]",
            "text/plain": [
              "<Figure size 432x288 with 1 Axes>"
            ]
          },
          "metadata": {
            "tags": []
          }
        }
      ]
    },
    {
      "cell_type": "markdown",
      "metadata": {
        "id": "W3lT01vM4KuM",
        "colab_type": "text"
      },
      "source": [
        "### Situation 2\n",
        "\n",
        "In this case, we see if instead of giving voters a choice of 2 players, we give them a choice of 3 or more players at one time.\n",
        "\n",
        "According to the simulation, **more choices per vote doesn't reduce the error**. Thus, it's good to stick with only 2 choices at a time."
      ]
    },
    {
      "cell_type": "code",
      "metadata": {
        "id": "t640h3jEtyF2",
        "colab_type": "code",
        "colab": {
          "base_uri": "https://localhost:8080/",
          "height": 283
        },
        "outputId": "16f44a21-94d3-4097-ae46-7dcf01e7f180"
      },
      "source": [
        "game_size_error = []\n",
        "for i in range(2, 11):\n",
        "    game_size_error.append(get_avg_error(10, n_games=20, mal_prob=0,\n",
        "                                         choices_per_game=i, quality_f=quality1))\n",
        "    \n",
        "plt.plot(range(2, 11), game_size_error)\n",
        "plt.ylim((0, 0.25))\n",
        "plt.ylabel(\"Error\")\n",
        "plt.xlabel(\"Number of competitors per game\")\n",
        "plt.show()"
      ],
      "execution_count": 29,
      "outputs": [
        {
          "output_type": "display_data",
          "data": {
            "image/png": "[encoded data removed]",
            "text/plain": [
              "<Figure size 432x288 with 1 Axes>"
            ]
          },
          "metadata": {
            "tags": []
          }
        }
      ]
    },
    {
      "cell_type": "markdown",
      "metadata": {
        "id": "flzovcAZ4iqs",
        "colab_type": "text"
      },
      "source": [
        "### Situation 3\n",
        "\n",
        "Let's change the quality function so that there are more players who are extremely good, and very few players that are really bad."
      ]
    },
    {
      "cell_type": "code",
      "metadata": {
        "id": "Qevs2HSdwcEj",
        "colab_type": "code",
        "colab": {}
      },
      "source": [
        "def quality2(user_id, num_users):\n",
        "    return (user_id/num_users)**0.2"
      ],
      "execution_count": 0,
      "outputs": []
    },
    {
      "cell_type": "code",
      "metadata": {
        "id": "DHZCewvYw_RA",
        "colab_type": "code",
        "colab": {
          "base_uri": "https://localhost:8080/",
          "height": 283
        },
        "outputId": "bbf624e3-e404-4ea0-c27e-975db775a1a3"
      },
      "source": [
        "plt.plot(range(100), [quality2(i, 100) for i in range(100)])\n",
        "plt.ylabel(\"Quality\")\n",
        "plt.xlabel(\"Player id\")\n",
        "plt.show()"
      ],
      "execution_count": 55,
      "outputs": [
        {
          "output_type": "display_data",
          "data": {
            "image/png": "[encoded data removed]",
            "text/plain": [
              "<Figure size 432x288 with 1 Axes>"
            ]
          },
          "metadata": {
            "tags": []
          }
        }
      ]
    },
    {
      "cell_type": "markdown",
      "metadata": {
        "id": "mf9_rE2M4xAQ",
        "colab_type": "text"
      },
      "source": [
        "It's clear that the error for this new quality distribution, **the error is much higher than our previous quality function.**"
      ]
    },
    {
      "cell_type": "code",
      "metadata": {
        "id": "w8wD9SZDxNdF",
        "colab_type": "code",
        "colab": {
          "base_uri": "https://localhost:8080/",
          "height": 283
        },
        "outputId": "91a7a249-87b5-44f3-9594-502504d08a79"
      },
      "source": [
        "num_votes_error1 = []\n",
        "num_votes_error2 = []\n",
        "for i in range(2, 21, 2):\n",
        "    num_votes_error1.append(get_avg_error(10, n_games=i, mal_prob=0, \n",
        "                                          choices_per_game=2, quality_f=quality1))\n",
        "    num_votes_error2.append(get_avg_error(10, n_games=i, mal_prob=0, \n",
        "                                          choices_per_game=2, quality_f=quality2))\n",
        "\n",
        "    \n",
        "plt.plot(range(2, 21, 2), num_votes_error1, color='red', label='quality1')\n",
        "plt.plot(range(2, 21, 2), num_votes_error2, color='blue', label='quality2')\n",
        "plt.ylim((0, 0.6))\n",
        "plt.ylabel(\"Error\")\n",
        "plt.xlabel(\"Number of votes per voter\")\n",
        "plt.legend(loc='upper right')\n",
        "plt.show()"
      ],
      "execution_count": 41,
      "outputs": [
        {
          "output_type": "display_data",
          "data": {
            "image/png": "[encoded data removed]",
            "text/plain": [
              "<Figure size 432x288 with 1 Axes>"
            ]
          },
          "metadata": {
            "tags": []
          }
        }
      ]
    },
    {
      "cell_type": "markdown",
      "metadata": {
        "id": "mMHCPzkz5Lj2",
        "colab_type": "text"
      },
      "source": [
        "### Situation 4\n",
        "\n",
        "This is the reverse of Situation 3, i.e., a lot of players are bad and a few players are very good. In an open tournament, this distribution is likely to be close to the actual distribution."
      ]
    },
    {
      "cell_type": "code",
      "metadata": {
        "id": "GgnBHP_Jx1-F",
        "colab_type": "code",
        "colab": {}
      },
      "source": [
        "def quality3(user_id, num_users):\n",
        "    return (user_id/num_users)**4"
      ],
      "execution_count": 0,
      "outputs": []
    },
    {
      "cell_type": "code",
      "metadata": {
        "id": "pbazJBjXye7d",
        "colab_type": "code",
        "colab": {
          "base_uri": "https://localhost:8080/",
          "height": 283
        },
        "outputId": "11d6f3b1-0945-44e9-f789-1a2a29f133f5"
      },
      "source": [
        "plt.plot(range(100), [quality3(i, 100) for i in range(100)])\n",
        "plt.ylabel(\"Quality\")\n",
        "plt.xlabel(\"Player id\")\n",
        "plt.show()"
      ],
      "execution_count": 45,
      "outputs": [
        {
          "output_type": "display_data",
          "data": {
            "image/png": "[encoded data removed]",
            "text/plain": [
              "<Figure size 432x288 with 1 Axes>"
            ]
          },
          "metadata": {
            "tags": []
          }
        }
      ]
    },
    {
      "cell_type": "markdown",
      "metadata": {
        "id": "FbZzU_ew5diV",
        "colab_type": "text"
      },
      "source": [
        "This result is a bit wierd. While the error is not much higher than with `quality1`, it doesn't improve as we ask voters to vote more times.\n",
        "\n",
        "It could be the case that, in this scenario, each vote is more easily made (i.e., the winner is more clear) as there are few good teams, and more information doesn't really help."
      ]
    },
    {
      "cell_type": "code",
      "metadata": {
        "id": "208YRQSnyhDb",
        "colab_type": "code",
        "colab": {
          "base_uri": "https://localhost:8080/",
          "height": 283
        },
        "outputId": "b3880e35-8048-4552-febb-140fd1de4617"
      },
      "source": [
        "num_votes_error1 = []\n",
        "num_votes_error3 = []\n",
        "for i in range(2, 21, 2):\n",
        "    num_votes_error1.append(get_avg_error(10, n_games=i, mal_prob=0, \n",
        "                                          choices_per_game=2, quality_f=quality1))\n",
        "    num_votes_error3.append(get_avg_error(10, n_games=i, mal_prob=0, \n",
        "                                          choices_per_game=2, quality_f=quality3))\n",
        "\n",
        "    \n",
        "plt.plot(range(2, 21, 2), num_votes_error1, color='red', label='quality1')\n",
        "plt.plot(range(2, 21, 2), num_votes_error3, color='blue', label='quality3')\n",
        "plt.ylim((0, 0.6))\n",
        "plt.ylabel(\"Error\")\n",
        "plt.xlabel(\"Number of votes per voter\")\n",
        "plt.legend(loc='upper right')\n",
        "plt.show()"
      ],
      "execution_count": 56,
      "outputs": [
        {
          "output_type": "display_data",
          "data": {
            "image/png": "[encoded data removed]",
            "text/plain": [
              "<Figure size 432x288 with 1 Axes>"
            ]
          },
          "metadata": {
            "tags": []
          }
        }
      ]
    },
    {
      "cell_type": "markdown",
      "metadata": {
        "id": "j0d_lUrX6QTF",
        "colab_type": "text"
      },
      "source": [
        "### Situation 5\n",
        "\n",
        "The last situation is different - in this case we introduce the concept of malicious voters. A voter is malicious  who will try to vote for the worst team instead of the best.\n",
        "\n",
        "**We try to see how the error increases as the proportion of malicious voters increase. The increase is seen quite clearly.**"
      ]
    },
    {
      "cell_type": "code",
      "metadata": {
        "id": "VcPpIs38yqHP",
        "colab_type": "code",
        "colab": {
          "base_uri": "https://localhost:8080/",
          "height": 283
        },
        "outputId": "a547142f-8d82-4cf6-8ac8-67910a8ca210"
      },
      "source": [
        "mal_prob_error = []\n",
        "for i in range(10):\n",
        "    mal_prob = i/10\n",
        "    mal_prob_error.append(get_avg_error(10, n_games=20, mal_prob=mal_prob, \n",
        "                                         choices_per_game=2, quality_f=quality1))\n",
        "    \n",
        "plt.plot([i/10 for i in range(10)], mal_prob_error)\n",
        "plt.ylim((0, 0.6))\n",
        "plt.ylabel(\"Error\")\n",
        "plt.xlabel(\"Probability of a voter being malicious\")\n",
        "plt.show()"
      ],
      "execution_count": 51,
      "outputs": [
        {
          "output_type": "display_data",
          "data": {
            "image/png": "[encoded data removed]",
            "text/plain": [
              "<Figure size 432x288 with 1 Axes>"
            ]
          },
          "metadata": {
            "tags": []
          }
        }
      ]
    },
    {
      "cell_type": "markdown",
      "metadata": {
        "id": "d0UAKAvt6mck",
        "colab_type": "text"
      },
      "source": [
        "We can potentially design for situations with malicious voters, but analyzing them will take more effort.\n",
        "\n",
        "A design would likely do the following:\n",
        "- punish them for voting badly. This can be achieved by detecting the number of times they voted for bad team, which we can identify after the voting ends.\n",
        "- If voting is voluntary - this may create a disincentive for voting. In that case, we may want to balance that by saying every vote increases their own score."
      ]
    },
    {
      "cell_type": "code",
      "metadata": {
        "id": "NUunaXay0Hs2",
        "colab_type": "code",
        "colab": {}
      },
      "source": [
        ""
      ],
      "execution_count": 0,
      "outputs": []
    }
  ]
}